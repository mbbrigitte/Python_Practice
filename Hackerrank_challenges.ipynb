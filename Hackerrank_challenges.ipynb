{
 "metadata": {
  "name": "",
  "signature": "sha256:2e3128618f7720cbfbf86c01ed8ab9c5392569003142110eb5c4abc90a957f75"
 },
 "nbformat": 3,
 "nbformat_minor": 0,
 "worksheets": [
  {
   "cells": [
    {
     "cell_type": "heading",
     "level": 1,
     "metadata": {},
     "source": [
      "Different concepts in Python"
     ]
    },
    {
     "cell_type": "heading",
     "level": 2,
     "metadata": {},
     "source": [
      "1. Reading from raw input string"
     ]
    },
    {
     "cell_type": "markdown",
     "metadata": {},
     "source": [
      "Task: Read in a word (line 1). Read in a position (integer, first element second line) and the letter to be added (char, second element second line). Add that letter in the position given to the word."
     ]
    },
    {
     "cell_type": "code",
     "collapsed": false,
     "input": [
      "s = raw_input() #enter a word\n",
      "l = raw_input().split(' ') #enter a number and a letter"
     ],
     "language": "python",
     "metadata": {},
     "outputs": []
    },
    {
     "cell_type": "code",
     "collapsed": false,
     "input": [
      "nr = int(l[0])\n",
      "nrt = nr + 1\n",
      "t = l[1]\n",
      "s = s[:nr] + t + s[nrt:]\n",
      "print s"
     ],
     "language": "python",
     "metadata": {},
     "outputs": []
    },
    {
     "cell_type": "heading",
     "level": 2,
     "metadata": {},
     "source": [
      "2. Recursion"
     ]
    },
    {
     "cell_type": "markdown",
     "metadata": {},
     "source": [
      "Idea: Calculate  $f(f(f(a))) $  \n",
      "$f(a) = 5 + a  $  \n",
      "i.e. $f(20) = 5 + 20 = 25  $  \n",
      "$f(f(f(20))) = f(f(25)) $  \n",
      "$f(25) = 5 + 25 = 30 $ plug in  \n",
      "$f(f(25)) = f(30)$  \n",
      "etc.\n",
      "This is a good excercise to get used to calling the same function from within the function."
     ]
    },
    {
     "cell_type": "code",
     "collapsed": false,
     "input": [
      "def factorial( N ):\n",
      "    if N <= 1:\n",
      "        return 1\n",
      "    else:\n",
      "        return N * factorial(N-1)"
     ],
     "language": "python",
     "metadata": {},
     "outputs": []
    },
    {
     "cell_type": "code",
     "collapsed": false,
     "input": [
      "print(factorial(5))"
     ],
     "language": "python",
     "metadata": {},
     "outputs": []
    },
    {
     "cell_type": "heading",
     "level": 2,
     "metadata": {},
     "source": [
      "3. Error Exception and Dictionnairy"
     ]
    },
    {
     "cell_type": "markdown",
     "metadata": {},
     "source": [
      "d={(sam,99912222),(tom,11122222),(harry,12299933)}  \n",
      "We then process each query and print Key=Value if the queried Key is found in the map, or 'Not found' otherwise.  \n",
      "Query 0: sam  \n",
      "Sam is one of the keys in our dictionary, so we print sam=99912222  \n",
      "Query 1: frank  \n",
      "\n",
      "Raw input should be   \n",
      "sam 99912222  \n",
      "tom 11122222  \n",
      "harry 12299933  "
     ]
    },
    {
     "cell_type": "code",
     "collapsed": false,
     "input": [
      "N = 3\n",
      "d = dict(raw_input().split() for _ in range(N))\n",
      "\n",
      "name = raw_input()\n",
      "while (name):\n",
      "    try:\n",
      "        print name+'='+d[name]\n",
      "    except KeyError:\n",
      "        print 'Not found'\n",
      "        pass\n",
      "    name = raw_input()"
     ],
     "language": "python",
     "metadata": {},
     "outputs": []
    },
    {
     "cell_type": "heading",
     "level": 2,
     "metadata": {},
     "source": [
      "4. More practice"
     ]
    },
    {
     "cell_type": "heading",
     "level": 3,
     "metadata": {},
     "source": [
      "a) Binary"
     ]
    },
    {
     "cell_type": "markdown",
     "metadata": {},
     "source": [
      "Convert given integer into a binary."
     ]
    },
    {
     "cell_type": "code",
     "collapsed": false,
     "input": [
      "n = int(raw_input().strip())"
     ],
     "language": "python",
     "metadata": {},
     "outputs": []
    },
    {
     "cell_type": "code",
     "collapsed": false,
     "input": [
      "bnumber =     []\n",
      "while(n > 0):\n",
      "    remainder = n%2;\n",
      "    n = n/2;\n",
      "    bnumber.append(remainder)\n",
      "    \n",
      "print(bnumber[::-1])\n",
      "#4 \u00f7 2 = 2 remainder 0 \u2191\n",
      "#2 \u00f7 2 = 1 remainder 0 \u2191\n",
      "#1 \u00f7 2 = 0 remainder 1 \u2191"
     ],
     "language": "python",
     "metadata": {},
     "outputs": []
    },
    {
     "cell_type": "markdown",
     "metadata": {},
     "source": [
      "Now get maximum number of repeated 1s in the binary output (doesn t make sense, just practice)"
     ]
    },
    {
     "cell_type": "code",
     "collapsed": false,
     "input": [
      "\n",
      "def longest(roll):\n",
      "    '''Return the maximum length of consecutive repeated elements in a list.'''\n",
      "    i = 0\n",
      "    M = 0   # The maximum length\n",
      "    while 0 <= i < len(roll):\n",
      "        c = 1  # Temporarily record the length of consecutive elements\n",
      "        for j in range(i+1, len(roll)):\n",
      "            if roll[j] != roll[i]:\n",
      "                i = j\n",
      "                break\n",
      "            c += 1\n",
      "            i += 1    \n",
      "        if c > M:\n",
      "            M = c\n",
      "        if i == len(roll) - 1:\n",
      "            break\n",
      "    return M      \n",
      "\n",
      "print longest(bnumber)"
     ],
     "language": "python",
     "metadata": {},
     "outputs": []
    }
   ],
   "metadata": {}
  }
 ]
}