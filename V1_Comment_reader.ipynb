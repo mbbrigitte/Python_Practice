{
 "metadata": {
  "name": "",
  "signature": "sha256:1a86558b7c4f9bd874b274550ac9cad2e1f1f8dfa5ea20fffd309f1a785b1c83"
 },
 "nbformat": 3,
 "nbformat_minor": 0,
 "worksheets": [
  {
   "cells": [
    {
     "cell_type": "code",
     "collapsed": false,
     "input": [
      "# a part of this code is from http://www.unc.edu/~ncaren/haphazard/nytimes_comments.py"
     ],
     "language": "python",
     "metadata": {},
     "outputs": []
    },
    {
     "cell_type": "code",
     "collapsed": false,
     "input": [
      "import urllib\n",
      "import json\n",
      "from time import sleep"
     ],
     "language": "python",
     "metadata": {},
     "outputs": [],
     "prompt_number": 9
    },
    {
     "cell_type": "code",
     "collapsed": false,
     "input": [
      "def nytimes_comments(article):\n",
      "    \n",
      "    article=article.replace(':','%253A') #convert the : to an HTML entity\n",
      "    article=article.replace('/','%252F') #convert the / to an HTML entity\n",
      "    offset=0 #Start off at the very beginning\n",
      "    total_comments=1 #set a fake minimum number of contents\n",
      "    comment_list=[] #Set up a place to store the results\n",
      "    while total_comments>offset:\n",
      "        url='http://www.nytimes.com/svc/community/V3/requestHandler?callback=NYTD.commentsInstance.drawComments&method=get&cmd=GetCommentsAll&url='+article+'&offset='+str(offset)+'&sort=newest' #store the secret URL\n",
      "        sleep(1) #They don't like you to vist the page too quickly so take a one second break before downloading\n",
      "        file=urllib.urlopen(url).read() #Get the file and read it into a string\n",
      "\n",
      "        file=file.replace('NYTD.commentsInstance.drawComments(','') #clean the file by removing some clutter at the front end\n",
      "        file=file[:-2] #clean the file by remvoings some clutter at the back end\n",
      "\n",
      "        results=json.loads(file,  'iso-8859-1') #load the file as json\n",
      "        comment_list=comment_list+results['results']['comments']\n",
      "        if offset==0: #print out the number of comments, but only the first time through the loop\n",
      "            total_comments=results['results']['totalCommentsFound'] # store the total number of comments\n",
      "            print 'Found '+str(total_comments)+' comments'\n",
      "\n",
      "        offset=offset+25 #increment the counter\n",
      "        \n",
      "    return comment_list #return the list back"
     ],
     "language": "python",
     "metadata": {},
     "outputs": [],
     "prompt_number": 12
    },
    {
     "cell_type": "code",
     "collapsed": false,
     "input": [
      "article_url='http://opinionator.blogs.nytimes.com/2012/04/17/whos-afraid-of-greater-luxembourg/'#  URL of the article you want to get\n",
      "comments=nytimes_comments(article_url)\n"
     ],
     "language": "python",
     "metadata": {},
     "outputs": [
      {
       "output_type": "stream",
       "stream": "stdout",
       "text": [
        "Found 73 comments\n"
       ]
      }
     ],
     "prompt_number": 13
    },
    {
     "cell_type": "code",
     "collapsed": false,
     "input": [
      "for comment in comments: #loop through the list\n",
      "    print comment['commentBody'] #print out the comment text"
     ],
     "language": "python",
     "metadata": {},
     "outputs": [
      {
       "output_type": "stream",
       "stream": "stdout",
       "text": [
        "Back to the speeches of Luxembourg Economic Developemnt Luxembourg is doing its weight. The expression <a href=\"http://www.profischnell.com\" title=\"http://www.profischnell.com\" target=\"_blank\">http://www.profischnell.com</a> has recently become famous on  TV, <a href=\"http://www.portedeurope.org\" title=\"http://www.portedeurope.org\" target=\"_blank\">http://www.portedeurope.org</a>  where a journalist had together a dozen <a href=\"http://www.portedeurope.org\" title=\"http://www.portedeurope.org\" target=\"_blank\">http://www.portedeurope.org</a> of President comments about countries . It has now a category that includes everyone doing great, like all students.\n",
        "I'm glad that I found this series of articles.  Very interesting!\n",
        "Good stuff Frank, as always. Footnote number 3 had me a bit agitated, because I have always thought it was \"to a buxom girl in Luxembourg\", but I just re-listened to \"Ask\" and yes, you are right, she had big teeth, not big breasts. However to save face I must disagree with you about the set-up: I don't think the penpal thing with big-tooth girl ever happened, it was just Morrissey portraying a typical experience of a lonely, sensitive bedsit boy, whose only emotional outlet, pre-Internet, was to write frightening verse etc etc to extroverted girls in obscure countries. Not that I would know, ahem. But I digress.\n",
        "Excellent brief article but, in relation to note 6, no mention of the great photographer Edward (\u00c9duard) Steichen?\n",
        "Another delightful lesson in geography and history.  Thanks so much!\n",
        "I had the pleasure of being in Luxembourg around May, 1974. It is filled with history of French and German hypocrisy. Maybe that's the way it should be. \n",
        "A friend of mine who worked at the English Service of Radio Luxembourg in the 1970s and 1980s used to refer to Luxembourg as \"the center of Europe and the middle of nowhere.\" I enjoyed all of my many trips to Luxy, but I get his point.\n",
        "A newspaper article with footnotes!  What a lovely and learned pause from the crises and frictions of the day.  In spite of the quaint controversies that Frank Jacobs stirred up with his theory for understanding Pashtun pugnacity, called Zomia, his series on geographical history is what makes the NYT a great read.<br/>\n",
        "Keep 'em comin'!<br/>\n",
        "D.J.\n",
        "For 1000 years, Luxembourg was  part of the Holy Roman Empire of German Nationality.  Pundits say that it was neither holy, nor Roman, nor an Empire and not even all that German.  Still, Luxembourg was part of that structure and even provided several emperors.   After Napoleon did away with the empire, the last one became Emperor of Austria in 1806.<br/>\n",
        "After 1806, the many principalities that formerly owed allegiance to the Emperor became independent  and some like the Grand Duke of Wuerttemberg and the one in Hanover made themselves King.  Within 50 years, and with the onset of industrialization, most recognized that they could no longer function completely on their own and formed the North German Customs Union.  For reasons of their own, the Grand Duke of Luxembourg, of the House of Nassau, refused to join the customs union.  When the North German states fought Austria in 1866 and won, Luxembourg remained neutral as they did when all German states fought the French in 1870.  The Second German Reich was declared in Paris in 1871, again without Luxembourg.  That's when Luxembourg definitely left Germany of which it had been an integral part for a thousand years.  Of the countless German principalities only Luxembourg and Liechtenstein remained independent after 1870.  And both can afford to do so only because their banking laws allow citizens of other countries to deposit their money there without fear of taxation.  That's what allows them to remain independent and prosperous.\n",
        "Luxembourg's existence is symbiotic with the larger border nations.  Their low \"vat tax' structure has \"foreigners\" driving cross border to purchase gas, liquor, etc. at a substantial savings (US-ers, think of a vat tax as 30% sales tax, built into the retail price of everything)<br/><br/>Should Luxembourg grow too much, they will lose their ability to leverage this \"subsidy\" from Germany, France and Belgium.  And then how would they support the rumored 2 billion euro annual budget of the royal family. <br/><br/>If Europe ever achieves common tax rates across borders Luxembourg will be in big trouble.\n",
        "The map does not make clear what the white portion (within the red dotted lines) denotes.  Anyone know?  Am I missing something obvious?\n",
        "An interesting article! However, I find the sentence \"of its last four prime ministers, one went on to become president of the United Nations General Assembly, another of the European Commission, and a third of the Eurogroup\" somewhat misleading, since not one but two Luxembourgers have held the office of President of the European Commission: Gaston Thorn and Jacques Santer (cfr. e.g. <a href=\"http://en.wikipedia.org/wiki/President_of_the_European_Commission#List_of_presidents)\" title=\"http://en.wikipedia.org/wiki/President_of_the_European_Commission#List_of_presidents)\" target=\"_blank\">http://en.wikipedia.org/wiki/President_of_the_European_Commission#List_o...</a>\n",
        "My only regret on Mr. Jacobs' delightful article is that he omits the reason Luxembourg almost alone (Liechtenstein too) survives of the member-states of the German Confederation of 1815-1866. <br/><br/>The town was the mightiest fortress in Central Europe, considered impregnable. The conferees at Vienna in 1815 were determined that it be in the hands of a strong state in case Napoleonic ambitions ever returned to France. Therefore the duchy and the rest of the old Austrian Netherlands were united with the northern Netherlands, whose Protestant king was found dictatorial and unsympathetic in the south. The army's garrison, however, were Prussians, and when the southern Netherlands revolted (becoming Belgium), the Prussians refused to go and Luxembourg remained part of the Confederation. Luxembourg therefore had to be partitioned, Belgium only getting the (larger) half. <br/><br/>The rest remained under Prussian control until 1871, when as part of the deal for recognizing Prussia as the German Empire (the Second Reich), Britain and Russia insisted that Prussia evacuate the fortress. Bismarck (who had earlier, in 1866, pretended to offer the grand duchy to Napoleon III in order to secure his neutrality during the war with Austria -- a trick Napoleon never forgave), agreed to give the place up, but only on condition that the fortress was destroyed. The fortifications were, accordingly, blown sky high. \n",
        "Very enjoyable and fun series! As for recreating Middle Francia in the Plan B scenario, stranger things have happened, but imagining it extending from \"Amsterdam to Athens\" would appear to based more on alliteration (and perhaps one too many Weissbiers) than the former borders of Middle Francia--modern day Rijeka in Croatia would roughly mark its southeastern-most advance.     \n",
        "What an odd and irrelevant article.<br/><br/>The whole narrative is based on the machinations of the feudal lords of the past. These idiocies resulted in the borders we have today in Europe, and these borders are vehemently defended by petty national politicians (who have nothing else to show for) and a population that cannot look beyond its own garden fence.<br/><br/>Europe is a huge patchwork of regions with particular languages, customs and cultural identities. Almost all of these regions extend across the artificial political borders. There are numerous examples where the local people feel much closer to their neighbours across the border than to their compatriots in the capital.<br/><br/>Obviously, the people of Luxembourg have their own particular language, and it is nothing else than a German dialect. Any German west of the Rhine could understand it, but no French-speaker would. If Luxembourg would be part of Germany, it would not be any odder than Bavaria.<br/><br/>The future of Europe has to lie in strong regions, not in nation states that are almost entirely based on some horse trading by the feudal lords centuries ago.\n",
        "Let\u2019s not forget all those late nights when John Lennon listened to Radio Luxembourg and gained his introduction to American R&amp;B.  Rock and Roll as we know it today was formed in no small part because of it.<br/><br/>The BBC had a monopoly on radio in the UK up until 1973 and played a pretty restricted range of popular music.  Since the BBC banned advertising, Radio Luxembourg found it profitable to create an English language service and play genres like R&amp;B interspersed with commercials aimed at listeners in the UK and Ireland.   <br/><br/>In many interviews, John Lennon credited those hours of listening to Radio Luxembourg as one of his earliest inspirations as a singer and song writer.  \n",
        "There still is a serious argument between The Netherlands (\"Big Bully\") and Luxembourg (\"Small Dwarf\") which is the color of their flags (both Red-White-Blue).  The Dutch claim that they got it first and that Luxembourg, way back, was part of them.  The Luxembourgers say that is not true at all, etc.  Still they love each other thanks to fairly recent and frequent Royal Inbreeding until Emperor Bonapart around 1800 took control there and told everybody to either behave or be beheaded.      \n",
        "There't nothing about demographics in this article. A huge proportion of the population is non native. Both Portuguese and Italians are common there. Portuguese alone make up about 20% of the population of Luxembourg.\n",
        "Frank Jacobs totally gets it! - I could not have said it better myself....  Wait, I did! - Conclusion of my e-book: Storms Over Luxembourg (2009):<br/><br/>\"The European Union (EU), of currently 27 member states, is essentially an economic union. Though it is supposed to be also a political union, time and time again, a common position on important world affairs has eluded her leaders. In all camps there are still some deeply entrenched gut feelings of wariness, difficult to overcome. Europeans have their history in common, though their elders were not always on the same side of conflicts.<br/>\n",
        "The basic political tenet of nineteenth century\u2019s emperors and kings was that a nation had to be large in territory, the larger, the better. Size mattered. Post World War II European history has seemingly cracked that belief. The smaller, the better. The small European nations, many of them constitutional monarchies, have thrived. Maybe because their problems are proportionate to the size of the country or maybe because they are just a large family; eventually everybody within the country becomes related to everybody else. Whatever the reasons, the small Grand Duchy of Luxembourg is prosperous, a firm supporter of a unified Europe for which her politicians from Joseph Bech, to Pierre Werner, Gaston Thorn, Jacques Santer and Jean-Claude Juncker, have often played the role of mediator between neighbors at odds. After all, they are the progeny of Lotharingia, the lands in the middle.\"\n",
        "Keep these background pieces coming: they provide great perspective!  Unfortunately, there was no mention of the plebecite in 1955, in which the population of Saarland had the chance to enter into a union with Luxembourg and Lorraine, from which the EU would have been administered.  recently, my Saarland relatives again regretted that the Germans voted to return to Germany.<br/><br/>Another interesting development was the suggestion from a politician in Baden-Wuerttemberg that the German state withdraw from the GDR and join the Swiss Confederation.  In BW, there is a lot of popular support for this idea on a theoretical level. If  the idea grew legs, though, it would make a lot of sense to join up with a Saar-Lo-Lux union because this is a homogeneous cultural area, based on the ancient Allemanian tribes, and the original empire of Charlemagne.  Of course, it would be the richest and by far the most economically vital region in Europe, thus a nightmare for those areas accustomed to hanging in the teats of others.\n",
        "I seriously think this column is the result of a dare: \"Use irredentism in a sentence.\"  Game win for the phrase: \"*sublimated* irredentism.\"\n",
        "As a Luxembourger I have enjoyed reading this because of its style and the many true facts.<br/>\n",
        "May I nevertheless point out that during the past 20 years, the cultural and social development of the City of Luxembourg  has been outstanding and if you went any evening to the Philharmony, the Grund or the Atelier area you would probably disagree as much as me with any reference to boredom.<br/>\n",
        "There is not a more international city in the world with a combination of quiet, woods, landscapes, culture,  fun. gastronomy of high quality, local pubs<br/>\n",
        "and so much more!<br/>\n",
        "As a recruiter during 30 years in Luxembourg  I have met so many executives coming from all over the globe \"for 3-4 years\", who were still in Luxembourg 20 years later and raised their children in this safe beautifull place. And the children become Luxembourgers - and spend their life here !<br/>\n",
        "In Luxembourg we may be missing the sun, but within a one hour flight (and for most of Luxembourg  30 minutes to the airport :-) )we reach the nicest beaches and sky resorts and virtually all of Europe.<br/><br/>Again: Thank you very much Frank Jacobs !  I'll keep watching your forthcoming productions!<br/><br/>Pol Wirtz<br/>\n",
        "<a href=\"mailto:pol@wirtz.com\">pol@wirtz.com</a> \n",
        "This is a challenging article which provides a historical geo-political perspective. It was like reading a history book with bibliography and footnotes. One felt it had to be read again with the important dates and names written down and committed to memory. Well Done NYT for printing this sort of stuff.\n",
        "Too bad the residents of Lotharingia aren't called Lotharios.\n",
        "Luxembourg is also the petrol station oasis of N. Europe. Prices are the lowest in the region and the perimeter of the country is lined with fuel stations full of Belgians, Germans, and French cars.\n",
        "Luxembourgers are typically quinti-lingual; German, French, Luxembourgish, Dutch / Flemish [what you call that language is a purely political decision], and English. Actually, Luxembourgish sounds to me like all five ground up into one sentence.\n",
        "Wonderful article, but please note that to make sense, 'wollebleiwe' ('want to stay/remain') and 'watmir' ('what we') must be written separately: 'Mir w\u00f6lle bleiwe wat mir sin.' (The verb 'w\u00f6lle' may also be written as 'w\u00eblle.')\n",
        "I am not sure if  Mr. Jacobs, the author of this article  has ever been to Luxembourg? In recent memory?<br/><br/>Luxembourg is a multicultural nation well known for its high quality of life. It  tops the list as the safest city in the world  (not one US city appeared in the top 50 list), has a thriving economy and is a wold class financial center. It also has the world's highest GDP per capita and more Michelin starred restaurant per square mile than any other country in the world.<br/><br/>It is no more or less boring than Any town USA or in Mr. Jacob's case,  North Yorkshire in England.<br/>\n",
        "The reference to \"Morrissey\" an English singer well past his prime (born in 1959) makes me believe that the author based his information on 30 year old data.<br/><br/>Last but not least - the correct spelling of our Luxembourg motto is \"Mir w\u00f6lle bleiwe wat mir sin!\"\n",
        "I love to travel and especially enjoy looking for the qualities in a place that make it \"special\"... alas, I ended up calling the capital city Luxumboring for good cause.  Pretty place, but... yawn.\n",
        "How did it get to be Delaware East? Because secretly it follows the advice of that great Chinese economist, Kah Ching.\n",
        "It might be of importance and certainly of relevant interest to provide information as how (extremely) well Lux-burg does as far as GDP per capita is concerned: 2nd after Quatar. Here is the (2010) list of Top 15:<br/>\n",
        "1\t Qatar\t102,943 USD/capita<br/>\n",
        "2\t Luxembourg\t80,119<br/>\n",
        "3\t Singapore\t59,711<br/>\n",
        "4\t Norway\t53,471<br/>\n",
        "5\t Brunei\t49,384<br/>\n",
        "\u2014\t Hong Kong\t49,137<br/>\n",
        "6\t United States\t48,387<br/>\n",
        "7\t United Arab Emirates\t48,158<br/>\n",
        "8\t Switzerland\t43,370<br/>\n",
        "9\t Netherlands\t42,183<br/>\n",
        "10\t Austria\t41,822<br/>\n",
        "11\t Kuwait\t41,691<br/>\n",
        "12\t Canada\t40,541<br/>\n",
        "13\t Sweden\t40,394<br/>\n",
        "14\t Australia\t40,234<br/>\n",
        "15\t Ireland\t39,639<br/><br/>Yes, Luxemburg has for years now a forest of construction cares everywhere, building up, often banking centres. \n",
        "Please check your facts. Washington DC is 69 Sq. Miles Vs Malta's 121. So how can Washington DC be 2/3 its size as you state: \" Luxembourg held the distinction of being the smallest member state until the 2004 accession of Malta, which is only 121 square miles in size, or about two-thirds the size of the District of Columbia.\" Please correct. <br/><br/>Yes Luxemburg City maybe a small city and Luxemburg a small nation, it is one of the most beautiful places to visit. It is great place to visit with many historic sites to see from WW I and WW II.\n",
        "Personally, I'm pulling for Liechtenstein to make a comeback.\n",
        "I must be missing something.  If Luxembourg is \"the smallest but one of the European Union states,\" which of the following is smaller: Vatican City and Holy See, Malta, Leichtenstein, San Marino, Andorra, Monaco?  \n",
        "With Rhode Island's area of  1214 square miles it would seem that Luxembourg would be closer to five sixths  the size of our smallest  state rather than two thirds.\n",
        "@D. Ordes<br/><br/>Much the same reason as Delaware, really. It has rather low rates of corporate and personal income tax generally (by Western European standards, at least) and less red tape than many of its neighbours (notably Belgium). Until quite recently Luxembourg had a special form of holding company, the '1929 company', which, provided it didn't do any business directly in Luxembourg, was exempt from Luxembourg tax entirely. VAT is also the lowest in the EU, at 15%, which is particularly important for e-commerce since VAT on intra-EU transactions is charged at the rate of the seller's country. Plus, of course, the natural advantages of geographic centrality, stability, and a populace fluently trilingual in English, French, and German.\n",
        "Noticed  that in Luxembourg city every other door  is a bank\n",
        "A much enjoyed quirky article that also articulates many of the ongoing issues that the, fairly recent, nation state fixation has imposed. Up until a couple of hundred years ago territory usually followed a title and not until the 18th century did borders get to have a life of their own. Most, especially in Africa as we now see, have very little to do with either geographical or ethnic linkages.<br/>\n",
        "In some aspects Greater Europe may be evolving just as smaller units (Scotland, Luxembourg etc) try to assert more independence.\n",
        "Fascinating article.  I remember flying Icelandic Airlines into Luxemburg in the '70's.  I took the first train out of there to Germany, but before I did, I wandered a bit around the city and saw the fantastic natural fortress built into the bluffs on the river that winds through the town.  Truly a sight.  \n",
        "\"...Malta, which is only 121 square miles in size, or about two-thirds the size of the District of Columbia.\"  DC is 68 square miles--which is 177 square *km* (121/177 is about 2/3).\n",
        "These articles filled with all sorts of interesting geographical and historical facts are fun. Someone needs to check the first footnote, however. The District of Columbia was originally a square 10 miles on a side or 100 square miles, that was reduced to its present size of about 68 square miles when Virginia took back its chunk. So Malta is actually considerably larger than DC, rather than the other way around.\n",
        "\"Presiding over a Golden Age for Bohemia, Charles is considered father of the nation in the Czech Republic. He founded the university in Prague that is still named after him\" - and the site of the international movie festival Karlovy Vary as well, perhaps?\n",
        "A very funny presenter on BBC radio tells the story of taking a plane eastward through Europe and the pilot announcing, when they flew over Luxembourg, that they would \"pass the duchy on the left hand side.\"\n",
        "You might also add that L'burg has also produced a wildly disproportionate number of champion cyclists, including the current Frank and Andy Schlech.\n",
        "Location, location, location.  Luxemburg City is at the heart of  western Europe.   There was no mention of the fortress that is the city of Luxemburg..,  it's called the Gibralter of the north for good reason.   Solid, unassailable, and continually attracting lots of very smart and savvy people, Luxemburg is well placed to become the nexus of Europe.\n",
        "As a history student I enjoyed this article very much.  My famiily was European born, my father in Belgium, my mother in Holland, her mother in Germany.  My brother and I were born in Belgium.  We came to the United States in 1941.<br/>\n",
        "     G-d bless Luxemburg, a peaceful and beautiful place!\n",
        "How did Luxembourg get to be the Delaware of Europe?  Why do major corporations register in Luxembourg when their operations, resources and sales are located elsewhere around the globe?  \n"
       ]
      }
     ],
     "prompt_number": 18
    },
    {
     "cell_type": "code",
     "collapsed": false,
     "input": [
      "for comment in comments[0]: #loop through the list\n",
      "    print comment #print out all the itmes that are stored\n"
     ],
     "language": "python",
     "metadata": {},
     "outputs": [
      {
       "output_type": "stream",
       "stream": "stdout",
       "text": [
        "recommendedFlag\n",
        "parentID\n",
        "replies\n",
        "commentID\n",
        "trusted\n",
        "userDisplayName\n",
        "createDate\n",
        "userID\n",
        "replyCount\n",
        "commentTitle\n",
        "status\n",
        "sharing\n",
        "approveDate\n",
        "userTitle\n",
        "recommendations\n",
        "permID\n",
        "picURL\n",
        "editorsSelection\n",
        "parentUserDisplayName\n",
        "timespeople\n",
        "userURL\n",
        "userLocation\n",
        "depth\n",
        "commentType\n",
        "updateDate\n",
        "commentSequence\n",
        "reportAbuseFlag\n",
        "commentBody\n"
       ]
      }
     ],
     "prompt_number": 19
    },
    {
     "cell_type": "code",
     "collapsed": false,
     "input": [],
     "language": "python",
     "metadata": {},
     "outputs": []
    }
   ],
   "metadata": {}
  }
 ]
}